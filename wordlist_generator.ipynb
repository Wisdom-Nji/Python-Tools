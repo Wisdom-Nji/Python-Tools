{
  "nbformat": 4,
  "nbformat_minor": 0,
  "metadata": {
    "colab": {
      "name": "wordlist-generator",
      "provenance": [],
      "authorship_tag": "ABX9TyPkhAP06e0d6DhB7wdupuhH",
      "include_colab_link": true
    },
    "kernelspec": {
      "name": "python3",
      "display_name": "Python 3"
    }
  },
  "cells": [
    {
      "cell_type": "markdown",
      "metadata": {
        "id": "view-in-github",
        "colab_type": "text"
      },
      "source": [
        "<a href=\"https://colab.research.google.com/github/Wisdom-Nji/Python-Tools/blob/master/wordlist_generator.ipynb\" target=\"_parent\"><img src=\"https://colab.research.google.com/assets/colab-badge.svg\" alt=\"Open In Colab\"/></a>"
      ]
    },
    {
      "cell_type": "code",
      "metadata": {
        "id": "TY70tMs0Zbfh"
      },
      "source": [
        "# generating ngrams of the letters of the alphabet\n",
        "\n",
        "import string\n",
        "\n",
        "def append_to_char( wl ):\n",
        "  results = []\n",
        "  for i in range(len(wl)):\n",
        "    vl = wl[i]\n",
        "    for _char in list(string.ascii_lowercase[:26]):\n",
        "      results += [vl + _char]\n",
        "  \n",
        "  return results\n",
        "\n",
        "def generate(length = 1):\n",
        "  ini_wl = list(string.ascii_lowercase[:26])\n",
        "  for i in range( length ):\n",
        "    ini_wl = append_to_char( ini_wl )\n",
        "\n",
        "  return ini_wl"
      ],
      "execution_count": 8,
      "outputs": []
    },
    {
      "cell_type": "code",
      "metadata": {
        "id": "2OngwimRhH31"
      },
      "source": [
        "gen_wl = generate(2)\n",
        "print(f\"len={ len(gen_wl)}\")\n",
        "print( gen_wl )"
      ],
      "execution_count": null,
      "outputs": []
    },
    {
      "cell_type": "code",
      "metadata": {
        "id": "Cdr2KutTiPMA"
      },
      "source": [
        "print( gen_wl.index(\"she\"))\n",
        "print( gen_wl.index(\"rlo\"))"
      ],
      "execution_count": null,
      "outputs": []
    }
  ]
}